{
 "cells": [
  {
   "cell_type": "markdown",
   "id": "fe48f958",
   "metadata": {},
   "source": [
    "# Etapa 2: Entrenamiento y Evaluación del Modelo"
   ]
  },
  {
   "cell_type": "markdown",
   "id": "4620790d",
   "metadata": {},
   "source": [
    "## 1. Procesar archivos"
   ]
  },
  {
   "cell_type": "code",
   "execution_count": 610,
   "id": "e7cc0cf4",
   "metadata": {},
   "outputs": [
    {
     "name": "stdout",
     "output_type": "stream",
     "text": [
      "📄 Cargando datos ya procesados desde ecgs_procesados.csv...\n"
     ]
    }
   ],
   "source": [
    "import os\n",
    "import wfdb\n",
    "import numpy as np\n",
    "import pandas as pd\n",
    "from scipy.stats import skew, kurtosis\n",
    "from scipy.io import loadmat\n",
    "\n",
    "# Ruta al archivo procesado\n",
    "processed_file_path = '../data/ecgs_procesados.csv'\n",
    "\n",
    "if os.path.exists(processed_file_path):\n",
    "    print(\"📄 Cargando datos ya procesados desde ecgs_procesados.csv...\")\n",
    "    df = pd.read_csv(processed_file_path)\n",
    "else:\n",
    "    # Cargar etiquetas\n",
    "    ref_path = '../data/archivos/REFERENCE.csv'\n",
    "    labels_df = pd.read_csv(ref_path, header=None, names=['record', 'label'])\n",
    "    labels_df = labels_df[labels_df['label'] != '~']  # eliminar registros con etiqueta ~\n",
    "\n",
    "    # Ruta de los archivos\n",
    "    data_path = '../data/archivos/'\n",
    "\n",
    "    # Lista para almacenar características\n",
    "    features = []\n",
    "\n",
    "    for _, row in labels_df.iterrows():\n",
    "        record_name = row['record']\n",
    "        label_code = row['label']\n",
    "\n",
    "        record_path = os.path.join(data_path, record_name)\n",
    "\n",
    "        try:\n",
    "            # Leer archivo .mat\n",
    "            mat_data = loadmat(record_path + '.mat')  # asegurarse de incluir la extensión .mat\n",
    "            signal = mat_data['val']  # típico nombre de la señal en PhysioNet .mat\n",
    "            signal_1ch = signal[0]  # primer canal\n",
    "\n",
    "            # Estimar picos R (muy simple)\n",
    "            threshold = np.mean(signal_1ch)\n",
    "            r_peaks = np.where(signal_1ch > threshold)[0]\n",
    "            rr_intervals = np.diff(r_peaks)\n",
    "\n",
    "            if len(rr_intervals) < 3:\n",
    "                continue\n",
    "\n",
    "            mean_rr = np.mean(rr_intervals)\n",
    "            std_rr = np.std(rr_intervals)\n",
    "            skew_rr = skew(rr_intervals)\n",
    "            kurt_rr = kurtosis(rr_intervals)\n",
    "\n",
    "            label = {'N': 'Normal', 'A': 'AFib', 'O': 'Other'}.get(label_code, None)\n",
    "            if label is None:\n",
    "                continue\n",
    "\n",
    "            features.append([mean_rr, std_rr, skew_rr, kurt_rr, label])\n",
    "\n",
    "        except Exception as e:\n",
    "            print(f\"Error procesando {record_name}: {e}\")\n",
    "            continue\n",
    "\n",
    "    # Crear DataFrame final\n",
    "    df_proc = pd.DataFrame(features, columns=['mean_rr', 'std_rr', 'skew_rr', 'kurt_rr', 'label'])\n",
    "\n",
    "    # Guardar en CSV\n",
    "    output_path = '../data/ecgs_procesados.csv'\n",
    "    df_proc.to_csv(output_path, index=False)\n",
    "\n",
    "    print(f\"✅ ECGs procesados guardados en {output_path}\")"
   ]
  },
  {
   "cell_type": "markdown",
   "id": "fcc6019d",
   "metadata": {},
   "source": [
    "## 2. Separar variables predictoras y variable objetivo"
   ]
  },
  {
   "cell_type": "code",
   "execution_count": 611,
   "id": "cd0eff03",
   "metadata": {},
   "outputs": [],
   "source": [
    "X = df[['mean_rr', 'std_rr', 'skew_rr', 'kurt_rr']]\n",
    "y = df['label']"
   ]
  },
  {
   "cell_type": "markdown",
   "id": "d9189cb4",
   "metadata": {},
   "source": [
    "## 3. Dividir el dataset en entrenamiento y prueba"
   ]
  },
  {
   "cell_type": "code",
   "execution_count": 612,
   "id": "7d690dd2",
   "metadata": {},
   "outputs": [],
   "source": [
    "from sklearn.model_selection import train_test_split\n",
    "\n",
    "X_train, X_test, y_train, y_test = train_test_split(X, y, test_size=0.2, random_state=42, stratify=y)\n"
   ]
  },
  {
   "cell_type": "markdown",
   "id": "a2b351af",
   "metadata": {},
   "source": [
    "## 5. Escalar los datos"
   ]
  },
  {
   "cell_type": "code",
   "execution_count": 613,
   "id": "33294980",
   "metadata": {},
   "outputs": [],
   "source": [
    "from sklearn.preprocessing import StandardScaler\n",
    "\n",
    "scaler = StandardScaler()\n",
    "X_train_scaled = scaler.fit_transform(X_train)\n",
    "X_test_scaled = scaler.transform(X_test)"
   ]
  },
  {
   "cell_type": "markdown",
   "id": "39befeb8",
   "metadata": {},
   "source": [
    "## 6. Entrenar un modelo base con SVM"
   ]
  },
  {
   "cell_type": "code",
   "execution_count": 614,
   "id": "c60c3fa5",
   "metadata": {},
   "outputs": [],
   "source": [
    "from sklearn.svm import SVC\n",
    "\n",
    "modelo = SVC(kernel='rbf', class_weight='balanced', C=10, gamma='scale', probability=True, random_state=42)\n",
    "modelo.fit(X_train_scaled, y_train)\n",
    "y_pred = modelo.predict(X_test_scaled)\n"
   ]
  },
  {
   "cell_type": "markdown",
   "id": "6739ab78",
   "metadata": {},
   "source": [
    "## 7. Evaluar el desempeño del modelo"
   ]
  },
  {
   "cell_type": "code",
   "execution_count": 615,
   "id": "b94daa29",
   "metadata": {},
   "outputs": [
    {
     "name": "stdout",
     "output_type": "stream",
     "text": [
      "Accuracy: 0.5124\n",
      "Precision: 0.4349\n",
      "Recall: 0.4719\n",
      "F1-Score: 0.4247\n"
     ]
    }
   ],
   "source": [
    "from sklearn.metrics import accuracy_score, precision_score, recall_score, f1_score, classification_report\n",
    "\n",
    "accuracy = accuracy_score(y_test, y_pred)\n",
    "precision = precision_score(y_test, y_pred, average='macro')\n",
    "recall = recall_score(y_test, y_pred, average='macro')\n",
    "f1 = f1_score(y_test, y_pred, average='macro')\n",
    "\n",
    "print(f\"Accuracy: {accuracy:.4f}\")\n",
    "print(f\"Precision: {precision:.4f}\")\n",
    "print(f\"Recall: {recall:.4f}\")\n",
    "print(f\"F1-Score: {f1:.4f}\")"
   ]
  },
  {
   "cell_type": "markdown",
   "id": "601be599",
   "metadata": {},
   "source": [
    "## 8. Matriz de confusión"
   ]
  },
  {
   "cell_type": "code",
   "execution_count": 616,
   "id": "f95d2412",
   "metadata": {},
   "outputs": [
    {
     "data": {
      "image/png": "[encoded data removed]",
      "text/plain": [
       "<Figure size 640x480 with 2 Axes>"
      ]
     },
     "metadata": {},
     "output_type": "display_data"
    }
   ],
   "source": [
    "import matplotlib.pyplot as plt\n",
    "from sklearn.metrics import ConfusionMatrixDisplay\n",
    "\n",
    "ConfusionMatrixDisplay.from_estimator(modelo, X_test_scaled, y_test, cmap='Blues')\n",
    "plt.title(\"Matriz de Confusión - Random Forest\")\n",
    "plt.show()\n"
   ]
  },
  {
   "cell_type": "markdown",
   "id": "f650c50e",
   "metadata": {},
   "source": [
    "## 9. Reporte completo"
   ]
  },
  {
   "cell_type": "code",
   "execution_count": 617,
   "id": "2f765dd6",
   "metadata": {},
   "outputs": [
    {
     "name": "stdout",
     "output_type": "stream",
     "text": [
      "\n",
      "Reporte de Clasificación:\n",
      "              precision    recall  f1-score   support\n",
      "\n",
      "        AFib       0.18      0.49      0.26       148\n",
      "      Normal       0.70      0.61      0.66      1010\n",
      "       Other       0.42      0.31      0.36       491\n",
      "\n",
      "    accuracy                           0.51      1649\n",
      "   macro avg       0.43      0.47      0.42      1649\n",
      "weighted avg       0.57      0.51      0.53      1649\n",
      "\n"
     ]
    }
   ],
   "source": [
    "print(\"\\nReporte de Clasificación:\")\n",
    "print(classification_report(y_test, y_pred))"
   ]
  },
  {
   "cell_type": "markdown",
   "id": "b3bbc90b",
   "metadata": {},
   "source": [
    "## Conclusiones de la Etapa 2\n",
    "\n",
    "- Se procesaron archivos .mat de señales ECG, extrayendo características estadísticas del intervalo RR: mean_rr, std_rr, skew_rr y kurt_rr, junto con sus etiquetas (Normal, AFib, Other) desde REFERENCE.csv.\n",
    "\n",
    "- Se utilizaron múltiples modelos clásicos de scikit-learn como Árboles de Decisión, Random Forest, Redes Neuronales (MLP) y SVM. De todos ellos, el modelo que logró el mejor desempeño general y, en especial, el mejor recall para la clase AFib, fue el SVM con kernel RBF, C=10 y class_weight='balanced'.\n",
    "\n",
    "- Este modelo obtuvo un recall de 0.49 para AFib, que es clave en contextos clínicos donde es más grave no detectar un caso verdadero. El accuracy global fue de 0.51, con métricas balanceadas entre clases (macro avg f1-score ≈ 0.42).\n",
    "\n",
    "- Si bien el modelo aún tiene espacio para mejorar, el objetivo prioritario de detectar fibrilación auricular se cumple de manera más efectiva con SVM, en comparación con otros enfoques clásicos.\n"
   ]
  }
 ],
 "metadata": {
  "kernelspec": {
   "display_name": "base",
   "language": "python",
   "name": "python3"
  },
  "language_info": {
   "codemirror_mode": {
    "name": "ipython",
    "version": 3
   },
   "file_extension": ".py",
   "mimetype": "text/x-python",
   "name": "python",
   "nbconvert_exporter": "python",
   "pygments_lexer": "ipython3",
   "version": "3.12.3"
  }
 },
 "nbformat": 4,
 "nbformat_minor": 5
}
