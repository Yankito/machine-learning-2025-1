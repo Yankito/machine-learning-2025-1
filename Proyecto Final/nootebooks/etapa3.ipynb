{
 "cells": [
  {
   "cell_type": "markdown",
   "id": "3412b302",
   "metadata": {},
   "source": [
    "# Etapa 3"
   ]
  },
  {
   "cell_type": "markdown",
   "id": "6752bbff",
   "metadata": {},
   "source": [
    "## 1. Procesar archivos"
   ]
  },
  {
   "cell_type": "code",
   "execution_count": null,
   "id": "8a898d9a",
   "metadata": {},
   "outputs": [
    {
     "name": "stdout",
     "output_type": "stream",
     "text": [
      "✅ ECGs procesados guardados en ../data/ecgs_procesados.csv\n"
     ]
    }
   ],
   "source": [
    "# Importación de librerías necesarias\n",
    "import os\n",
    "import wfdb\n",
    "import numpy as np\n",
    "import pandas as pd\n",
    "from scipy.stats import skew, kurtosis\n",
    "from scipy.signal import find_peaks\n",
    "\n",
    "# Ruta donde se almacenan los datos procesados\n",
    "processed_file_path = '../data/ecgs_procesados.csv'\n",
    "\n",
    "# Si el archivo procesado ya existe, se carga directamente\n",
    "if os.path.exists(processed_file_path):\n",
    "    print(\"📄 Cargando datos ya procesados desde ecgs_procesados.csv...\")\n",
    "    df = pd.read_csv(processed_file_path)\n",
    "    df = df[df['label'].isin(['Normal', 'AFib'])]  # Filtra solo clases Normal y AFib\n",
    "\n",
    "else:\n",
    "    # Si no existe el archivo procesado, se cargan los datos crudos para procesarlos\n",
    "\n",
    "    # Ruta al archivo con etiquetas de clase (REFERENCE.csv)\n",
    "    ref_path = '../data/archivos/REFERENCE.csv'\n",
    "    labels_df = pd.read_csv(ref_path, header=None, names=['record', 'label'])\n",
    "\n",
    "    # Filtrar solo registros con etiquetas N (Normal) o A (AFib)\n",
    "    labels_df = labels_df[labels_df['label'].isin(['N', 'A'])]\n",
    "\n",
    "    data_path = '../data/archivos/'\n",
    "    features = []\n",
    "\n",
    "    # Iterar sobre cada registro etiquetado\n",
    "    for _, row in labels_df.iterrows():\n",
    "        record_name = row['record']\n",
    "        label_code = row['label']\n",
    "        record_path = os.path.join(data_path, record_name)\n",
    "\n",
    "        try:\n",
    "            # Cargar la señal usando wfdb\n",
    "            record = wfdb.rdrecord(record_path)\n",
    "            signal = record.p_signal[:, 0]  # Tomar solo el primer canal\n",
    "\n",
    "            # Normalizar la señal\n",
    "            signal_norm = (signal - np.mean(signal)) / np.std(signal)\n",
    "\n",
    "            # Detección de picos R\n",
    "            peaks, _ = find_peaks(signal_norm, distance=200, height=0.5)\n",
    "            rr_intervals = np.diff(peaks)\n",
    "\n",
    "            if len(rr_intervals) < 3:\n",
    "                continue  # Saltar señales con pocos picos\n",
    "\n",
    "            # Extraer características\n",
    "            mean_rr = np.mean(rr_intervals)\n",
    "            std_rr = np.std(rr_intervals)\n",
    "            skew_rr = skew(rr_intervals)\n",
    "            kurt_rr = kurtosis(rr_intervals)\n",
    "\n",
    "            # Convertir etiqueta\n",
    "            label = {'N': 'Normal', 'A': 'AFib'}[label_code]\n",
    "\n",
    "            # Agregar a la lista\n",
    "            features.append([mean_rr, std_rr, skew_rr, kurt_rr, label])\n",
    "\n",
    "        except Exception as e:\n",
    "            print(f\"❌ Error procesando {record_name}: {e}\")\n",
    "            continue\n",
    "\n",
    "    # Crear DataFrame con los resultados\n",
    "    df = pd.DataFrame(features, columns=['mean_rr', 'std_rr', 'skew_rr', 'kurt_rr', 'label'])\n",
    "\n",
    "    # Guardar CSV con las características extraídas\n",
    "    output_path = '../data/ecgs_procesados.csv'\n",
    "    df.to_csv(output_path, index=False)\n",
    "    print(f\"✅ ECGs procesados guardados en {output_path}\")\n"
   ]
  },
  {
   "cell_type": "markdown",
   "id": "672dfb7f",
   "metadata": {},
   "source": [
    "Distribución de clases"
   ]
  },
  {
   "cell_type": "code",
   "execution_count": 2,
   "id": "05080f4a",
   "metadata": {},
   "outputs": [
    {
     "name": "stderr",
     "output_type": "stream",
     "text": [
      "C:\\Users\\yanko\\AppData\\Local\\Temp\\ipykernel_804\\76478376.py:9: FutureWarning: \n",
      "\n",
      "Passing `palette` without assigning `hue` is deprecated and will be removed in v0.14.0. Assign the `x` variable to `hue` and set `legend=False` for the same effect.\n",
      "\n",
      "  sns.barplot(x=class_counts.index, y=class_counts.values, palette='viridis')\n"
     ]
    },
    {
     "data": {
      "image/png": "[encoded data removed]",
      "text/plain": [
       "<Figure size 600x400 with 1 Axes>"
      ]
     },
     "metadata": {},
     "output_type": "display_data"
    }
   ],
   "source": [
    "import matplotlib.pyplot as plt\n",
    "import seaborn as sns\n",
    "\n",
    "# Conteo de clases\n",
    "class_counts = df['label'].value_counts()\n",
    "\n",
    "# Gráfico de barras\n",
    "plt.figure(figsize=(6, 4))\n",
    "sns.barplot(x=class_counts.index, y=class_counts.values, palette='viridis')\n",
    "plt.title(\"Distribución de Clases en el Dataset\", fontsize=14)\n",
    "plt.xlabel(\"Clase\", fontsize=12)\n",
    "plt.ylabel(\"Número de Registros\", fontsize=12)\n",
    "plt.xticks(fontsize=11)\n",
    "plt.yticks(fontsize=11)\n",
    "plt.tight_layout()\n",
    "plt.show()\n"
   ]
  },
  {
   "cell_type": "markdown",
   "id": "eaa0deb3",
   "metadata": {},
   "source": [
    "## 2. Separar variables predictoras y variable objetivo"
   ]
  },
  {
   "cell_type": "code",
   "execution_count": 3,
   "id": "6ce22ee0",
   "metadata": {},
   "outputs": [],
   "source": [
    "X = df[['mean_rr', 'std_rr', 'skew_rr', 'kurt_rr']]\n",
    "y = df['label']"
   ]
  },
  {
   "cell_type": "markdown",
   "id": "6ed41080",
   "metadata": {},
   "source": [
    "## 3. Dividir el dataset en entrenamiento y prueba"
   ]
  },
  {
   "cell_type": "code",
   "execution_count": 4,
   "id": "ed685fb9",
   "metadata": {},
   "outputs": [],
   "source": [
    "from sklearn.model_selection import train_test_split\n",
    "\n",
    "#Dividir el dataset en 70% para entrenamiento y 30% para pruebas.\n",
    "X_train, X_test, y_train, y_test = train_test_split(X, y, test_size=0.3, random_state=42, stratify=y)\n"
   ]
  },
  {
   "cell_type": "markdown",
   "id": "12d5d393",
   "metadata": {},
   "source": [
    "## 4. Escalar los datos"
   ]
  },
  {
   "cell_type": "code",
   "execution_count": 5,
   "id": "f4991319",
   "metadata": {},
   "outputs": [],
   "source": [
    "from sklearn.preprocessing import StandardScaler\n",
    "\n",
    "scaler = StandardScaler()\n",
    "X_train_scaled = scaler.fit_transform(X_train)\n",
    "X_test_scaled = scaler.transform(X_test)    "
   ]
  },
  {
   "cell_type": "markdown",
   "id": "d91cee54",
   "metadata": {},
   "source": [
    "## 5. Entrenamiento de modelo base con MLP (Perceptrón Multicapa)"
   ]
  },
  {
   "cell_type": "code",
   "execution_count": 6,
   "id": "ec52945b",
   "metadata": {},
   "outputs": [],
   "source": [
    "from sklearn.neural_network import MLPClassifier\n",
    "\n",
    "# Definir el modelo MLP con una arquitectura de dos capas ocultas (128 y 64 neuronas)\n",
    "modelo = MLPClassifier(\n",
    "    hidden_layer_sizes=(128, 64),    # Tamaño de las capas ocultas\n",
    "    max_iter=1000,                   # Número máximo de iteraciones\n",
    "    random_state=42,                 # Semilla para reproducibilidad\n",
    "    solver='adam',                   # Optimizador (Adam)\n",
    "    learning_rate='adaptive',       # La tasa de aprendizaje se ajusta en el entrenamiento\n",
    "    alpha=0.0001,                    # Parámetro de regularización L2 (evita overfitting)\n",
    "    activation='relu',              # Función de activación ReLU\n",
    "    early_stopping=False            # No se detiene anticipadamente, entrena todas las iteraciones\n",
    ")\n",
    "\n",
    "# Entrenamiento del modelo con el conjunto de entrenamiento escalado\n",
    "modelo.fit(X_train_scaled, y_train)\n",
    "\n",
    "# Predicción de las etiquetas para el conjunto de prueba escalado\n",
    "y_pred = modelo.predict(X_test_scaled)"
   ]
  },
  {
   "cell_type": "markdown",
   "id": "90235b8b",
   "metadata": {},
   "source": [
    "## 6. Evaluar el desempeño del modelo"
   ]
  },
  {
   "cell_type": "code",
   "execution_count": 7,
   "id": "b019aca1",
   "metadata": {},
   "outputs": [
    {
     "name": "stdout",
     "output_type": "stream",
     "text": [
      "Accuracy: 0.9073\n",
      "Precision: 0.7915\n",
      "Recall: 0.7904\n",
      "F1-Score: 0.7909\n"
     ]
    }
   ],
   "source": [
    "from sklearn.metrics import accuracy_score, precision_score, recall_score, f1_score, classification_report\n",
    "\n",
    "accuracy = accuracy_score(y_test, y_pred)\n",
    "precision = precision_score(y_test, y_pred, average='macro')\n",
    "recall = recall_score(y_test, y_pred, average='macro')\n",
    "f1 = f1_score(y_test, y_pred, average='macro')\n",
    "\n",
    "print(f\"Accuracy: {accuracy:.4f}\")\n",
    "print(f\"Precision: {precision:.4f}\")\n",
    "print(f\"Recall: {recall:.4f}\")\n",
    "print(f\"F1-Score: {f1:.4f}\")"
   ]
  },
  {
   "cell_type": "markdown",
   "id": "0c409b59",
   "metadata": {},
   "source": [
    "## 7. Matriz de confusión"
   ]
  },
  {
   "cell_type": "code",
   "execution_count": 8,
   "id": "812969af",
   "metadata": {},
   "outputs": [
    {
     "data": {
      "image/png": "[encoded data removed]",
      "text/plain": [
       "<Figure size 640x480 with 2 Axes>"
      ]
     },
     "metadata": {},
     "output_type": "display_data"
    }
   ],
   "source": [
    "import matplotlib.pyplot as plt\n",
    "from sklearn.metrics import ConfusionMatrixDisplay\n",
    "\n",
    "labels = sorted(y_test.unique())\n",
    "disp = ConfusionMatrixDisplay.from_estimator(\n",
    "    modelo,\n",
    "    X_test_scaled,\n",
    "    y_test,\n",
    "    cmap='Blues',\n",
    "    labels=labels\n",
    ")\n",
    "\n",
    "disp.ax_.grid(False)\n",
    "plt.title(\"Matriz de Confusión - MLPClassifier (Normal vs AFib)\")\n",
    "plt.show()\n"
   ]
  },
  {
   "cell_type": "markdown",
   "id": "4aa75e32",
   "metadata": {},
   "source": [
    "## 8. Reporte completo"
   ]
  },
  {
   "cell_type": "code",
   "execution_count": 9,
   "id": "92cde6b3",
   "metadata": {},
   "outputs": [
    {
     "name": "stdout",
     "output_type": "stream",
     "text": [
      "\n",
      "Reporte de Clasificación:\n",
      "              precision    recall  f1-score   support\n",
      "\n",
      "        AFib       0.64      0.63      0.63       221\n",
      "      Normal       0.95      0.95      0.95      1516\n",
      "\n",
      "    accuracy                           0.91      1737\n",
      "   macro avg       0.79      0.79      0.79      1737\n",
      "weighted avg       0.91      0.91      0.91      1737\n",
      "\n"
     ]
    }
   ],
   "source": [
    "print(\"\\nReporte de Clasificación:\")\n",
    "print(classification_report(y_test, y_pred))"
   ]
  },
  {
   "cell_type": "markdown",
   "id": "533814ca",
   "metadata": {},
   "source": [
    "## Conclusiones de la etapa 3\n",
    "\n",
    "Se incluyen en el README del proyecto.\n"
   ]
  }
 ],
 "metadata": {
  "kernelspec": {
   "display_name": "Python 3",
   "language": "python",
   "name": "python3"
  },
  "language_info": {
   "codemirror_mode": {
    "name": "ipython",
    "version": 3
   },
   "file_extension": ".py",
   "mimetype": "text/x-python",
   "name": "python",
   "nbconvert_exporter": "python",
   "pygments_lexer": "ipython3",
   "version": "3.12.4"
  }
 },
 "nbformat": 4,
 "nbformat_minor": 5
}
