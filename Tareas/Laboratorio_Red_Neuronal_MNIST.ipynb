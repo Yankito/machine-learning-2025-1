{
 "cells": [
  {
   "cell_type": "markdown",
   "id": "0e566d1d",
   "metadata": {},
   "source": [
    "\n",
    "# Laboratorio: Red Neuronal con MNIST  \n",
    "**Curso:** Machine Learning  \n",
    "**Total puntos:** 10\n",
    "\n",
    "**Objetivo:** Implementar una red neuronal simple para clasificar dígitos escritos a mano del conjunto de datos MNIST utilizando Python y Keras.\n"
   ]
  },
  {
   "cell_type": "markdown",
   "id": "d6ff2177",
   "metadata": {},
   "source": [
    "\n",
    "## Paso 1: Cargar el conjunto de datos MNIST (1 punto)\n",
    "\n",
    "Ejecuta el siguiente bloque para descargar y explorar el conjunto de datos.\n"
   ]
  },
  {
   "cell_type": "code",
   "execution_count": 8,
   "id": "7c659575",
   "metadata": {},
   "outputs": [
    {
     "name": "stdout",
     "output_type": "stream",
     "text": [
      "Tamaño del set de entrenamiento: (60000, 28, 28)\n",
      "Tamaño del set de test: (10000, 28, 28)\n"
     ]
    }
   ],
   "source": [
    "#%pip install tensorflow\n",
    "\n",
    "from tensorflow.keras.datasets import mnist\n",
    "\n",
    "# Cargar datos\n",
    "(x_train, y_train), (x_test, y_test) = mnist.load_data()\n",
    "\n",
    "print(\"Tamaño del set de entrenamiento:\", x_train.shape)\n",
    "print(\"Tamaño del set de test:\", x_test.shape)\n"
   ]
  },
  {
   "cell_type": "markdown",
   "id": "8c2895d0",
   "metadata": {},
   "source": [
    "\n",
    "## Paso 2: Visualizar ejemplos del dataset (1 punto)\n",
    "\n",
    "✏️ **Slot para completar:** Visualiza al menos 5 imágenes con sus etiquetas utilizando `matplotlib.pyplot.imshow()`.\n"
   ]
  },
  {
   "cell_type": "code",
   "execution_count": 9,
   "id": "1fab1a72",
   "metadata": {},
   "outputs": [
    {
     "data": {
      "image/png": "[encoded data removed]",
      "text/plain": [
       "<Figure size 640x480 with 5 Axes>"
      ]
     },
     "metadata": {},
     "output_type": "display_data"
    }
   ],
   "source": [
    "import matplotlib.pyplot as plt\n",
    "\n",
    "# Visualizar 5 imágenes con sus etiquetas\n",
    "for i in range(5):\n",
    "    plt.subplot(1, 5, i+1)\n",
    "    plt.imshow(x_train[i], cmap='gray')\n",
    "    plt.title(f\"Etiqueta: {y_train[i]}\")\n",
    "    plt.axis('off')\n",
    "\n",
    "plt.show()"
   ]
  },
  {
   "cell_type": "markdown",
   "id": "9e5bc3a8",
   "metadata": {},
   "source": [
    "\n",
    "## Paso 3: Preprocesamiento (1 punto)\n",
    "\n",
    "✏️ **Slot para completar:** \n",
    "- Normaliza las imágenes (divide por 255.0).\n",
    "- Aplana cada imagen a un vector de 784 valores.\n",
    "- Codifica las etiquetas con `to_categorical`.\n"
   ]
  },
  {
   "cell_type": "code",
   "execution_count": 10,
   "id": "40757ea1",
   "metadata": {},
   "outputs": [],
   "source": [
    "from tensorflow.keras.utils import to_categorical\n",
    "\n",
    "# Normalizar\n",
    "x_train = x_train / 255.0\n",
    "x_test = x_test / 255.0\n",
    "\n",
    "# Flatten\n",
    "x_train = x_train.reshape(-1, 784)\n",
    "x_test = x_test.reshape(-1, 784)\n",
    "\n",
    "# One-hot encoding\n",
    "y_train_cat = to_categorical(y_train)\n",
    "y_test_cat = to_categorical(y_test)\n"
   ]
  },
  {
   "cell_type": "markdown",
   "id": "36e5006d",
   "metadata": {},
   "source": [
    "\n",
    "## Paso 4: Definir la red neuronal (2 puntos)\n",
    "\n",
    "✏️ **Slot para completar:** \n",
    "- Crea un modelo `Sequential`.\n",
    "- Agrega una capa oculta con activación ReLU.\n",
    "- Agrega una capa de salida con activación Softmax.\n",
    "- Compila el modelo con `adam` y `categorical_crossentropy`.\n"
   ]
  },
  {
   "cell_type": "code",
   "execution_count": 11,
   "id": "9256bacd",
   "metadata": {},
   "outputs": [],
   "source": [
    "from tensorflow.keras.models import Sequential\n",
    "from tensorflow.keras.layers import Dense\n",
    "\n",
    "# Definición del modelo\n",
    "model = Sequential()\n",
    "model.add(Dense(128, activation='relu', input_shape=(784,)))\n",
    "model.add(Dense(10, activation='softmax'))\n",
    "\n",
    "# Compilación\n",
    "model.compile(optimizer='adam',\n",
    "              loss='categorical_crossentropy',\n",
    "              metrics=['accuracy'])\n",
    "\n"
   ]
  },
  {
   "cell_type": "markdown",
   "id": "32fa8560",
   "metadata": {},
   "source": [
    "\n",
    "## Paso 5: Entrenar el modelo (1 punto)\n",
    "\n",
    "✏️ **Slot para completar:** Entrena el modelo con `fit` durante 5 épocas y batch size 32.\n"
   ]
  },
  {
   "cell_type": "code",
   "execution_count": 12,
   "id": "df8023c2",
   "metadata": {},
   "outputs": [
    {
     "name": "stdout",
     "output_type": "stream",
     "text": [
      "Epoch 1/5\n",
      "\u001b[1m1875/1875\u001b[0m \u001b[32m━━━━━━━━━━━━━━━━━━━━\u001b[0m\u001b[37m\u001b[0m \u001b[1m4s\u001b[0m 2ms/step - accuracy: 0.8811 - loss: 0.4202\n",
      "Epoch 2/5\n",
      "\u001b[1m1875/1875\u001b[0m \u001b[32m━━━━━━━━━━━━━━━━━━━━\u001b[0m\u001b[37m\u001b[0m \u001b[1m3s\u001b[0m 2ms/step - accuracy: 0.9664 - loss: 0.1142\n",
      "Epoch 3/5\n",
      "\u001b[1m1875/1875\u001b[0m \u001b[32m━━━━━━━━━━━━━━━━━━━━\u001b[0m\u001b[37m\u001b[0m \u001b[1m3s\u001b[0m 2ms/step - accuracy: 0.9769 - loss: 0.0760\n",
      "Epoch 4/5\n",
      "\u001b[1m1875/1875\u001b[0m \u001b[32m━━━━━━━━━━━━━━━━━━━━\u001b[0m\u001b[37m\u001b[0m \u001b[1m3s\u001b[0m 2ms/step - accuracy: 0.9843 - loss: 0.0524\n",
      "Epoch 5/5\n",
      "\u001b[1m1875/1875\u001b[0m \u001b[32m━━━━━━━━━━━━━━━━━━━━\u001b[0m\u001b[37m\u001b[0m \u001b[1m3s\u001b[0m 2ms/step - accuracy: 0.9875 - loss: 0.0435\n"
     ]
    },
    {
     "data": {
      "text/plain": [
       "<keras.src.callbacks.history.History at 0x29508fb9eb0>"
      ]
     },
     "execution_count": 12,
     "metadata": {},
     "output_type": "execute_result"
    }
   ],
   "source": [
    "# Entrenar el modelo\n",
    "model.fit(x_train, y_train_cat, epochs=5, batch_size=32)\n",
    "\n"
   ]
  },
  {
   "cell_type": "markdown",
   "id": "abd4ea81",
   "metadata": {},
   "source": [
    "\n",
    "## Paso 6: Evaluar el modelo (1 punto)\n",
    "\n",
    "✏️ **Slot para completar:** Evalúa el modelo con `evaluate()` en el conjunto de prueba.\n"
   ]
  },
  {
   "cell_type": "code",
   "execution_count": null,
   "id": "fed31d1c",
   "metadata": {},
   "outputs": [
    {
     "name": "stdout",
     "output_type": "stream",
     "text": [
      "\u001b[1m313/313\u001b[0m \u001b[32m━━━━━━━━━━━━━━━━━━━━\u001b[0m\u001b[37m\u001b[0m \u001b[1m0s\u001b[0m 1ms/step - accuracy: 0.9739 - loss: 0.0818\n",
      "Loss: 0.0729, Accuracy: 0.9773\n"
     ]
    }
   ],
   "source": [
    "# Evaluar el modelo\n",
    "loss, accuracy = model.evaluate(x_test, y_test_cat)\n",
    "print(f\"Loss: {loss:.4f}, Accuracy: {accuracy:.4f}\")"
   ]
  },
  {
   "cell_type": "markdown",
   "id": "7b5a1fd0",
   "metadata": {},
   "source": [
    "## Preguntas de Reflexión (3 puntos en total)"
   ]
  },
  {
   "cell_type": "markdown",
   "id": "7455c9fb",
   "metadata": {},
   "source": [
    "### 1. ¿Qué ventaja observas al usar codificación one-hot para las etiquetas? (0.5 punto)"
   ]
  },
  {
   "cell_type": "markdown",
   "id": "6e60bce6",
   "metadata": {},
   "source": [
    "Permite que la red neuronal trate cada clase de manera independiente y que la salida sea compatible con funciones como categorical_crossentropy."
   ]
  },
  {
   "cell_type": "markdown",
   "id": "dbd9f5f9",
   "metadata": {},
   "source": [
    "### 2. ¿Qué ocurre si aumentas o disminuyes el número de neuronas ocultas? (0.5 punto)"
   ]
  },
  {
   "cell_type": "markdown",
   "id": "5dc7bb1f",
   "metadata": {},
   "source": [
    "Si se aumentan el número de neuronas se puede capturar relaciones más complejas, pero aumentan el riesgo de sobreajuste. Si de disminuyen las neuronas se puede simplificar el modelo, pero podrían limitar su capacidad de aprendizaje."
   ]
  },
  {
   "cell_type": "markdown",
   "id": "2a1bf432",
   "metadata": {},
   "source": [
    "### 3. ¿Qué alternativa propondrías al optimizador `adam` y por qué? (0.5 punto)"
   ]
  },
  {
   "cell_type": "markdown",
   "id": "d57b11e7",
   "metadata": {},
   "source": [
    "Podría usarse SGD con momentum, ya que puede ofrecer un mejor control sobre el proceso de optimización y a veces generaliza mejor."
   ]
  },
  {
   "cell_type": "markdown",
   "id": "c56b32ea",
   "metadata": {},
   "source": [
    "### 4. ¿Cómo cambia el desempeño si entrenas más épocas? ¿Cuál es el riesgo? (0.5 punto)"
   ]
  },
  {
   "cell_type": "markdown",
   "id": "424e5803",
   "metadata": {},
   "source": [
    "Puede mejorar la precisión hasta cierto punto, pero muchas épocas pueden causar sobreajuste, ya que el modelo aprende demasiado bien el conjunto de entrenamiento y falla en generalizar."
   ]
  },
  {
   "cell_type": "markdown",
   "id": "d79eea4a",
   "metadata": {},
   "source": [
    "### 5. ¿Por qué es importante dividir en conjuntos de entrenamiento y prueba? (1 punto)"
   ]
  },
  {
   "cell_type": "markdown",
   "id": "7e37c659",
   "metadata": {},
   "source": [
    "Para medir el desempeño real del modelo en datos que no conoce. Esto evita que el modelo se evalúe sobre los mismos datos que usó para aprender, lo que daría una estimación sesgada."
   ]
  }
 ],
 "metadata": {
  "kernelspec": {
   "display_name": "base",
   "language": "python",
   "name": "python3"
  },
  "language_info": {
   "codemirror_mode": {
    "name": "ipython",
    "version": 3
   },
   "file_extension": ".py",
   "mimetype": "text/x-python",
   "name": "python",
   "nbconvert_exporter": "python",
   "pygments_lexer": "ipython3",
   "version": "3.12.3"
  }
 },
 "nbformat": 4,
 "nbformat_minor": 5
}
